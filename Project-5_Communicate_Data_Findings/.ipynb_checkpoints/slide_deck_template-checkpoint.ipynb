{
 "cells": [
  {
   "cell_type": "markdown",
   "metadata": {
    "slideshow": {
     "slide_type": "slide"
    }
   },
   "source": [
    "# (Investigation of Ford GoBike System Data)\n",
    "## by (Ahmed Said)"
   ]
  },
  {
   "cell_type": "markdown",
   "metadata": {
    "slideshow": {
     "slide_type": "slide"
    }
   },
   "source": [
    "## Investigation Overview\n",
    "\n",
    "> Here , we will analyze the data set of Ford GoBike System Data and get some relations between the data set features\n",
    "\n",
    "## Dataset Overview\n",
    "\n",
    "> this data set is a data set about Ford GoBike System Data happened in April 2018 , it has the following features:-\n",
    "  - Trip Duration (seconds)\n",
    "  - Start Time and Date\n",
    "  - End Time and Date\n",
    "  - Start Station ID\n",
    "  - Start Station Name\n",
    "  - Start Station Latitude\n",
    "  - Start Station Longitude\n",
    "  - End Station ID\n",
    "  - End Station Name\n",
    "  - End Station Latitude\n",
    "  - End Station Longitude\n",
    "  - Bike ID\n",
    "  - User Type (Subscriber or Customer – “Subscriber” = Member or “Customer” = Casual)\n",
    "  \n",
    "- Dataset Source https://www.lyft.com/bikes/bay-wheels/system-data"
   ]
  },
  {
   "cell_type": "code",
   "execution_count": 1,
   "metadata": {
    "slideshow": {
     "slide_type": "skip"
    }
   },
   "outputs": [],
   "source": [
    "# import all packages and set plots to be embedded inline\n",
    "import numpy as np\n",
    "import pandas as pd\n",
    "import matplotlib.pyplot as plt\n",
    "import seaborn as sb\n",
    "\n",
    "%matplotlib inline\n",
    "\n",
    "# suppress warnings from final output\n",
    "import warnings\n",
    "warnings.simplefilter(\"ignore\")"
   ]
  },
  {
   "cell_type": "code",
   "execution_count": 2,
   "metadata": {
    "slideshow": {
     "slide_type": "skip"
    }
   },
   "outputs": [
    {
     "data": {
      "text/html": [
       "<div>\n",
       "<style scoped>\n",
       "    .dataframe tbody tr th:only-of-type {\n",
       "        vertical-align: middle;\n",
       "    }\n",
       "\n",
       "    .dataframe tbody tr th {\n",
       "        vertical-align: top;\n",
       "    }\n",
       "\n",
       "    .dataframe thead th {\n",
       "        text-align: right;\n",
       "    }\n",
       "</style>\n",
       "<table border=\"1\" class=\"dataframe\">\n",
       "  <thead>\n",
       "    <tr style=\"text-align: right;\">\n",
       "      <th></th>\n",
       "      <th>duration_sec</th>\n",
       "      <th>start_time</th>\n",
       "      <th>end_time</th>\n",
       "      <th>start_station_id</th>\n",
       "      <th>start_station_name</th>\n",
       "      <th>start_station_latitude</th>\n",
       "      <th>start_station_longitude</th>\n",
       "      <th>end_station_id</th>\n",
       "      <th>end_station_name</th>\n",
       "      <th>end_station_latitude</th>\n",
       "      <th>end_station_longitude</th>\n",
       "      <th>bike_id</th>\n",
       "      <th>user_type</th>\n",
       "      <th>bike_share_for_all_trip</th>\n",
       "    </tr>\n",
       "  </thead>\n",
       "  <tbody>\n",
       "    <tr>\n",
       "      <th>0</th>\n",
       "      <td>72393</td>\n",
       "      <td>2018-04-30 22:49:32.6180</td>\n",
       "      <td>2018-05-01 18:56:06.3010</td>\n",
       "      <td>4</td>\n",
       "      <td>Cyril Magnin St at Ellis St</td>\n",
       "      <td>37.785881</td>\n",
       "      <td>-122.408915</td>\n",
       "      <td>4</td>\n",
       "      <td>Cyril Magnin St at Ellis St</td>\n",
       "      <td>37.785881</td>\n",
       "      <td>-122.408915</td>\n",
       "      <td>3940</td>\n",
       "      <td>Customer</td>\n",
       "      <td>No</td>\n",
       "    </tr>\n",
       "    <tr>\n",
       "      <th>1</th>\n",
       "      <td>81034</td>\n",
       "      <td>2018-04-30 17:46:04.9970</td>\n",
       "      <td>2018-05-01 16:16:39.2470</td>\n",
       "      <td>122</td>\n",
       "      <td>19th St at Mission St</td>\n",
       "      <td>37.760299</td>\n",
       "      <td>-122.418892</td>\n",
       "      <td>42</td>\n",
       "      <td>San Francisco City Hall (Polk St at Grove St)</td>\n",
       "      <td>37.778650</td>\n",
       "      <td>-122.418230</td>\n",
       "      <td>3374</td>\n",
       "      <td>Customer</td>\n",
       "      <td>No</td>\n",
       "    </tr>\n",
       "    <tr>\n",
       "      <th>2</th>\n",
       "      <td>86142</td>\n",
       "      <td>2018-04-30 16:07:13.9190</td>\n",
       "      <td>2018-05-01 16:02:56.7170</td>\n",
       "      <td>41</td>\n",
       "      <td>Golden Gate Ave at Polk St</td>\n",
       "      <td>37.781270</td>\n",
       "      <td>-122.418740</td>\n",
       "      <td>67</td>\n",
       "      <td>San Francisco Caltrain Station 2  (Townsend St...</td>\n",
       "      <td>37.776639</td>\n",
       "      <td>-122.395526</td>\n",
       "      <td>3191</td>\n",
       "      <td>Subscriber</td>\n",
       "      <td>Yes</td>\n",
       "    </tr>\n",
       "    <tr>\n",
       "      <th>3</th>\n",
       "      <td>68839</td>\n",
       "      <td>2018-04-30 17:11:57.4640</td>\n",
       "      <td>2018-05-01 12:19:16.7870</td>\n",
       "      <td>284</td>\n",
       "      <td>Yerba Buena Center for the Arts (Howard St at ...</td>\n",
       "      <td>37.784872</td>\n",
       "      <td>-122.400876</td>\n",
       "      <td>115</td>\n",
       "      <td>Jackson Playground</td>\n",
       "      <td>37.765026</td>\n",
       "      <td>-122.398773</td>\n",
       "      <td>2970</td>\n",
       "      <td>Customer</td>\n",
       "      <td>No</td>\n",
       "    </tr>\n",
       "    <tr>\n",
       "      <th>4</th>\n",
       "      <td>59091</td>\n",
       "      <td>2018-04-30 18:45:21.5560</td>\n",
       "      <td>2018-05-01 11:10:13.5410</td>\n",
       "      <td>196</td>\n",
       "      <td>Grand Ave at Perkins St</td>\n",
       "      <td>37.808894</td>\n",
       "      <td>-122.256460</td>\n",
       "      <td>233</td>\n",
       "      <td>12th St at 4th Ave</td>\n",
       "      <td>37.795812</td>\n",
       "      <td>-122.255555</td>\n",
       "      <td>522</td>\n",
       "      <td>Customer</td>\n",
       "      <td>No</td>\n",
       "    </tr>\n",
       "  </tbody>\n",
       "</table>\n",
       "</div>"
      ],
      "text/plain": [
       "   duration_sec                start_time                  end_time  \\\n",
       "0         72393  2018-04-30 22:49:32.6180  2018-05-01 18:56:06.3010   \n",
       "1         81034  2018-04-30 17:46:04.9970  2018-05-01 16:16:39.2470   \n",
       "2         86142  2018-04-30 16:07:13.9190  2018-05-01 16:02:56.7170   \n",
       "3         68839  2018-04-30 17:11:57.4640  2018-05-01 12:19:16.7870   \n",
       "4         59091  2018-04-30 18:45:21.5560  2018-05-01 11:10:13.5410   \n",
       "\n",
       "   start_station_id                                 start_station_name  \\\n",
       "0                 4                        Cyril Magnin St at Ellis St   \n",
       "1               122                              19th St at Mission St   \n",
       "2                41                         Golden Gate Ave at Polk St   \n",
       "3               284  Yerba Buena Center for the Arts (Howard St at ...   \n",
       "4               196                            Grand Ave at Perkins St   \n",
       "\n",
       "   start_station_latitude  start_station_longitude  end_station_id  \\\n",
       "0               37.785881              -122.408915               4   \n",
       "1               37.760299              -122.418892              42   \n",
       "2               37.781270              -122.418740              67   \n",
       "3               37.784872              -122.400876             115   \n",
       "4               37.808894              -122.256460             233   \n",
       "\n",
       "                                    end_station_name  end_station_latitude  \\\n",
       "0                        Cyril Magnin St at Ellis St             37.785881   \n",
       "1      San Francisco City Hall (Polk St at Grove St)             37.778650   \n",
       "2  San Francisco Caltrain Station 2  (Townsend St...             37.776639   \n",
       "3                                 Jackson Playground             37.765026   \n",
       "4                                 12th St at 4th Ave             37.795812   \n",
       "\n",
       "   end_station_longitude  bike_id   user_type bike_share_for_all_trip  \n",
       "0            -122.408915     3940    Customer                      No  \n",
       "1            -122.418230     3374    Customer                      No  \n",
       "2            -122.395526     3191  Subscriber                     Yes  \n",
       "3            -122.398773     2970    Customer                      No  \n",
       "4            -122.255555      522    Customer                      No  "
      ]
     },
     "execution_count": 2,
     "metadata": {},
     "output_type": "execute_result"
    }
   ],
   "source": [
    "# load in the dataset into a pandas dataframe\n",
    "df_fb = pd.read_csv(\"201804-fordgobike-tripdata.csv\")\n",
    "df_fb.head()"
   ]
  },
  {
   "cell_type": "code",
   "execution_count": 3,
   "metadata": {
    "slideshow": {
     "slide_type": "skip"
    }
   },
   "outputs": [],
   "source": [
    "#change columns to datetime and user_type to category \n",
    "df_fb[['start_time', 'end_time']] = df_fb[['start_time','end_time']].apply(pd.to_datetime,format='%Y-%m-%d %H:%M:%S.%f')\n",
    "df_fb['user_type'] = df_fb['user_type'].astype('category')\n",
    "df_fb['bike_share_for_all_trip'] = df_fb['bike_share_for_all_trip'].astype('category')"
   ]
  },
  {
   "cell_type": "markdown",
   "metadata": {
    "slideshow": {
     "slide_type": "slide"
    }
   },
   "source": [
    "## (Average duration in minutes)\n",
    "\n",
    "> Average duration of trips in minutes to be will organized and visualized instead of seconds\n",
    "  - the segnificant average trip duration is 10 minutes"
   ]
  },
  {
   "cell_type": "code",
   "execution_count": 4,
   "metadata": {
    "slideshow": {
     "slide_type": "subslide"
    }
   },
   "outputs": [
    {
     "data": {
      "image/png": "[encoded data removed]",
      "text/plain": [
       "<Figure size 432x288 with 1 Axes>"
      ]
     },
     "metadata": {
      "needs_background": "light"
     },
     "output_type": "display_data"
    }
   ],
   "source": [
    "# here we will convert the duration_sec to minutes to be easy to understand and visulaize\n",
    "df_fb['duration_min'] = df_fb['duration_sec'] / 60\n",
    "#we will make Log transformation to better understand the data\n",
    "bins = 10**np.arange(0 , 3 + 0.1 , 0.1)\n",
    "ticks =  [ 1 , 3, 10, 30, 100, 300, 1000]\n",
    "labels = ['{}'.format(v) for v in ticks]\n",
    "plt.hist(data = df_fb , x = 'duration_min' , bins = bins);\n",
    "plt.xscale('log');\n",
    "plt.xticks(ticks,labels);\n",
    "plt.xlabel('Duration in Minutes');\n",
    "plt.title('Average Bike Trip Duration (Minutes)');\n",
    "plt.ylabel('Number of Trips');"
   ]
  },
  {
   "cell_type": "markdown",
   "metadata": {
    "slideshow": {
     "slide_type": "slide"
    }
   },
   "source": [
    "## (most frequent start hours of the trip in the day)\n",
    "\n",
    "> The most frequent hours of start time in the day are 8 am and 5 pm"
   ]
  },
  {
   "cell_type": "code",
   "execution_count": 7,
   "metadata": {
    "slideshow": {
     "slide_type": "subslide"
    }
   },
   "outputs": [
    {
     "data": {
      "image/png": "[encoded data removed]",
      "text/plain": [
       "<Figure size 360x360 with 1 Axes>"
      ]
     },
     "metadata": {
      "needs_background": "light"
     },
     "output_type": "display_data"
    }
   ],
   "source": [
    "df_fb['Hour'] = pd.DatetimeIndex(df_fb['start_time']).hour\n",
    "\n",
    "g = sb.catplot(data=df_fb, x='Hour', kind='count', color='#F90510')\n",
    "g.set_axis_labels(\"Hour\", \"Bike Trips\")\n",
    "g.fig.suptitle('Monthly Bike rides Usage', y=1.03, fontsize=14);"
   ]
  },
  {
   "cell_type": "markdown",
   "metadata": {
    "collapsed": true,
    "slideshow": {
     "slide_type": "slide"
    }
   },
   "source": [
    "## (Relation between Start Hour and User_Type)\n",
    "\n",
    "> There are segnificant appear for both user types in the 5 pm Hr and the subscribers has segnificant appear at 8 am"
   ]
  },
  {
   "cell_type": "code",
   "execution_count": 8,
   "metadata": {
    "slideshow": {
     "slide_type": "subslide"
    }
   },
   "outputs": [
    {
     "data": {
      "image/png": "[encoded data removed]",
      "text/plain": [
       "<Figure size 720x360 with 2 Axes>"
      ]
     },
     "metadata": {
      "needs_background": "light"
     },
     "output_type": "display_data"
    }
   ],
   "source": [
    "g = sb.catplot(data=df_fb, x='Hour', col=\"user_type\", kind='count', sharey = False, color = 'deepskyblue')\n",
    "g.set_axis_labels(\"Hour\", \"Bike Rides\")\n",
    "g.set_titles(\"{col_name}\")\n",
    "g.fig.suptitle('Hourly usage trends by user type', y=1.03, fontsize=14);"
   ]
  },
  {
   "cell_type": "markdown",
   "metadata": {
    "slideshow": {
     "slide_type": "slide"
    }
   },
   "source": [
    "## (Relation between user type and the duration of the trip)\n",
    "\n",
    "> As we discovered here although we have the large amount of user types are subscribers but the average duration of customer types are higher than avarage duration of subscribers"
   ]
  },
  {
   "cell_type": "code",
   "execution_count": 9,
   "metadata": {
    "slideshow": {
     "slide_type": "subslide"
    }
   },
   "outputs": [
    {
     "data": {
      "image/png": "[encoded data removed]",
      "text/plain": [
       "<Figure size 576x432 with 1 Axes>"
      ]
     },
     "metadata": {
      "needs_background": "light"
     },
     "output_type": "display_data"
    }
   ],
   "source": [
    "# let`s explore the relationship between duarion and user_type using boxplot \n",
    "plt.figure(figsize=[8,6])\n",
    "sb.boxplot(data=df_fb, x='user_type', y='duration_sec')\n",
    "plt.yscale('log')\n",
    "plt.yticks([50,100,200,500, 1e3, 2e3, 5e3, 1e4, 2e4,4e4,8e4], [50,100,200,500, '1k', '2k', '5k', '10k', '20k','40k','80k']);"
   ]
  },
  {
   "cell_type": "markdown",
   "metadata": {
    "slideshow": {
     "slide_type": "slide"
    }
   },
   "source": [
    "## (Relation between start hour and trip duration and user type)\n",
    "\n",
    "> As Discovered from the graph\n",
    "   - The user type of the customer has the longest duration trip at 4 am and 5 am\n",
    "   - The user type of the subscriber has the longest duration trip at 1 am and 11 pm"
   ]
  },
  {
   "cell_type": "code",
   "execution_count": 10,
   "metadata": {
    "slideshow": {
     "slide_type": "subslide"
    }
   },
   "outputs": [
    {
     "data": {
      "image/png": "[encoded data removed]",
      "text/plain": [
       "<Figure size 1080x504 with 1 Axes>"
      ]
     },
     "metadata": {
      "needs_background": "light"
     },
     "output_type": "display_data"
    }
   ],
   "source": [
    "plt.figure(figsize=[15,7])\n",
    "ax = sb.barplot(data = df_fb, x = 'Hour', y = 'duration_sec', hue = 'user_type')\n",
    "ax.legend(loc = 1, framealpha = 1, title = 'user_type')\n",
    "plt.yscale('log')\n",
    "plt.yticks([50,100,200,500, 1e3, 2e3, 5e3, 1e4, 2e4,4e4,8e4], [50,100,200,500, '1k', '2k', '5k', '10k', '20k','40k','80k']);"
   ]
  },
  {
   "cell_type": "code",
   "execution_count": null,
   "metadata": {
    "slideshow": {
     "slide_type": "skip"
    }
   },
   "outputs": [],
   "source": [
    "### Thanks"
   ]
  }
 ],
 "metadata": {
  "celltoolbar": "Slideshow",
  "kernelspec": {
   "display_name": "Python 3",
   "language": "python",
   "name": "python3"
  },
  "language_info": {
   "codemirror_mode": {
    "name": "ipython",
    "version": 3
   },
   "file_extension": ".py",
   "mimetype": "text/x-python",
   "name": "python",
   "nbconvert_exporter": "python",
   "pygments_lexer": "ipython3",
   "version": "3.7.7"
  }
 },
 "nbformat": 4,
 "nbformat_minor": 2
}
